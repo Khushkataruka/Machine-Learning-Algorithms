{
 "cells": [
  {
   "cell_type": "code",
   "execution_count": 1,
   "id": "31757b99-0118-47a1-8e2f-17db65e00147",
   "metadata": {},
   "outputs": [
    {
     "data": {
      "text/plain": [
       "['DESCR', 'data', 'feature_names', 'frame', 'images', 'target', 'target_names']"
      ]
     },
     "execution_count": 1,
     "metadata": {},
     "output_type": "execute_result"
    }
   ],
   "source": [
    "from sklearn.datasets import load_digits\n",
    "digits=load_digits()\n",
    "dir(digits)"
   ]
  },
  {
   "cell_type": "code",
   "execution_count": 2,
   "id": "5d13370c-50f7-4c32-969f-2d4a6e0475f9",
   "metadata": {},
   "outputs": [],
   "source": [
    "from sklearn import svm\n",
    "from sklearn.ensemble import RandomForestClassifier\n",
    "from sklearn.linear_model import LogisticRegression\n",
    "from sklearn.naive_bayes import GaussianNB\n",
    "from sklearn.naive_bayes import MultinomialNB\n",
    "from sklearn.tree import DecisionTreeClassifier"
   ]
  },
  {
   "cell_type": "code",
   "execution_count": 5,
   "id": "50a03484-0a83-4f3b-94a2-082835ee6042",
   "metadata": {},
   "outputs": [],
   "source": [
    "\n",
    "import numpy as np\n",
    "\n",
    "# Model definitions\n",
    "models = [\n",
    "    {\n",
    "        \"model\": LogisticRegression(),\n",
    "        \"params\": {\n",
    "            \"solver\": ['liblinear', 'saga']\n",
    "        }\n",
    "    },\n",
    "    {\n",
    "        \"model\": DecisionTreeClassifier(),\n",
    "        \"params\": {\n",
    "            \"criterion\": [\"gini\", \"entropy\", \"log_loss\"]\n",
    "        }\n",
    "    },\n",
    "    {\n",
    "        \"model\": MultinomialNB(),\n",
    "        \"params\": {\n",
    "            \"alpha\": np.linspace(0.1, 5.0, 10)\n",
    "        }\n",
    "    }\n",
    "]\n"
   ]
  },
  {
   "cell_type": "code",
   "execution_count": 6,
   "id": "b8df38de-b4d0-4c37-893f-971538a77c93",
   "metadata": {},
   "outputs": [
    {
     "name": "stderr",
     "output_type": "stream",
     "text": [
      "C:\\Users\\04khu\\AppData\\Local\\Programs\\Python\\Python310\\lib\\site-packages\\sklearn\\linear_model\\_sag.py:349: ConvergenceWarning: The max_iter was reached which means the coef_ did not converge\n",
      "  warnings.warn(\n",
      "C:\\Users\\04khu\\AppData\\Local\\Programs\\Python\\Python310\\lib\\site-packages\\sklearn\\linear_model\\_sag.py:349: ConvergenceWarning: The max_iter was reached which means the coef_ did not converge\n",
      "  warnings.warn(\n",
      "C:\\Users\\04khu\\AppData\\Local\\Programs\\Python\\Python310\\lib\\site-packages\\sklearn\\linear_model\\_sag.py:349: ConvergenceWarning: The max_iter was reached which means the coef_ did not converge\n",
      "  warnings.warn(\n",
      "C:\\Users\\04khu\\AppData\\Local\\Programs\\Python\\Python310\\lib\\site-packages\\sklearn\\linear_model\\_sag.py:349: ConvergenceWarning: The max_iter was reached which means the coef_ did not converge\n",
      "  warnings.warn(\n",
      "C:\\Users\\04khu\\AppData\\Local\\Programs\\Python\\Python310\\lib\\site-packages\\sklearn\\linear_model\\_sag.py:349: ConvergenceWarning: The max_iter was reached which means the coef_ did not converge\n",
      "  warnings.warn(\n"
     ]
    },
    {
     "name": "stdout",
     "output_type": "stream",
     "text": [
      "Model: LogisticRegression\n",
      "Best Estimator: LogisticRegression(solver='liblinear')\n",
      "Best Score: 0.9221138966264315\n",
      "\n",
      "Model: DecisionTreeClassifier\n",
      "Best Estimator: DecisionTreeClassifier(criterion='log_loss')\n",
      "Best Score: 0.8108217270194986\n",
      "\n",
      "Model: MultinomialNB\n",
      "Best Estimator: MultinomialNB(alpha=np.float64(5.0))\n",
      "Best Score: 0.8736908077994429\n",
      "\n"
     ]
    }
   ],
   "source": [
    "from sklearn.model_selection import GridSearchCV\n",
    "# Results storage\n",
    "results = []\n",
    "\n",
    "for json in models:\n",
    "    # Initialize and fit GridSearchCV\n",
    "    gsv = GridSearchCV(json[\"model\"], json[\"params\"], scoring='accuracy', cv=5)\n",
    "    gsv.fit(digits.data, digits.target)\n",
    "\n",
    "    # Collect results\n",
    "    result = {\n",
    "        \"model\": json[\"model\"].__class__.__name__,\n",
    "        \"best_estimator\": gsv.best_estimator_,\n",
    "        \"best_score\": gsv.best_score_\n",
    "    }\n",
    "    print(f\"Model: {result['model']}\")\n",
    "    print(f\"Best Estimator: {result['best_estimator']}\")\n",
    "    print(f\"Best Score: {result['best_score']}\\n\")\n",
    "    results.append(result)\n"
   ]
  },
  {
   "cell_type": "code",
   "execution_count": null,
   "id": "9c988828-908c-419c-875a-07a143c12d61",
   "metadata": {},
   "outputs": [],
   "source": []
  }
 ],
 "metadata": {
  "kernelspec": {
   "display_name": "Python 3 (ipykernel)",
   "language": "python",
   "name": "python3"
  },
  "language_info": {
   "codemirror_mode": {
    "name": "ipython",
    "version": 3
   },
   "file_extension": ".py",
   "mimetype": "text/x-python",
   "name": "python",
   "nbconvert_exporter": "python",
   "pygments_lexer": "ipython3",
   "version": "3.10.0"
  }
 },
 "nbformat": 4,
 "nbformat_minor": 5
}
